{
 "cells": [
  {
   "cell_type": "code",
   "execution_count": 5,
   "id": "674eea87-f7fd-4cf1-a7e8-bf15a24930c9",
   "metadata": {
    "tags": []
   },
   "outputs": [],
   "source": [
    "# Q1. Create one variable containing following type of data:\n",
    "\n",
    "# (i) string\n",
    "# (ii) list\n",
    "# (iii) float\n",
    "# (iv) tuple\n",
    "\n",
    "# Answer\n",
    "\n",
    "# (i) string\n",
    "str_1 = 'Pwskills'\n",
    "\n",
    "# (ii) list\n",
    "list_1 = [1,2.3,'Datascience',3+4j,True]\n",
    "\n",
    "# (iii) float\n",
    "float_1 = 4.67\n",
    "\n",
    "# (iv) tuple\n",
    "tuple_1 = (2,4,7,8,9)\n",
    "\n",
    "\n",
    "\n",
    "\n"
   ]
  },
  {
   "cell_type": "code",
   "execution_count": 4,
   "id": "78952a8d-3053-4bde-9549-7346242d1a58",
   "metadata": {},
   "outputs": [],
   "source": [
    "# Q2. Given are some following variables containing data:\n",
    "\n",
    "# (i) var1 = ‘ ‘\n",
    "# (ii) var2 = ‘[ DS , ML , Python]’\n",
    "# (iii) var3 = [ ‘DS’ , ’ML’ , ‘Python’ ]\n",
    "# (iv) var4 = 1.\n",
    "\n",
    "# Answer\n",
    "\n",
    "# (i) var1 = ‘ ‘\n",
    "str\n",
    "\n",
    "# (ii) var2 = ‘[ DS , ML , Python]’\n",
    "str\n",
    "\n",
    "# (iii) var3 = [ ‘DS’ , ’ML’ , ‘Python’ ]\n",
    "list\n",
    "\n",
    "# (iv) var4 = 1.\n",
    "int\n",
    "\n",
    "\n"
   ]
  },
  {
   "cell_type": "code",
   "execution_count": null,
   "id": "3b95c550-bd7b-49f1-8fb1-fe90f347b1d0",
   "metadata": {},
   "outputs": [],
   "source": [
    "# Q3. Explain the use of the following operators using an example:\n",
    "\n",
    "# (i) /\n",
    "# (ii) %\n",
    "# (iii) //\n",
    "# (iv) **\n",
    "\n",
    "# Answer\n",
    "\n",
    "# (i) /\n",
    "# This operator is used to divide a number with another number. Example: 5/2 = 2.5,4/2 = 2.0\n",
    "\n",
    "# (ii) %\n",
    "# This operator is used to divide a number with another number and gives only the remainder value. Example : 5%2 = 1\n",
    "\n",
    "# (iii) //\n",
    "# This operator is called floor division and it is used to give only the quotient value. Example: 5//3 = 1, 6//2 = 3\n",
    "\n",
    "# (iv) **\n",
    "# This operator is used to give power raised to a value. Example : 2 ** 3 = 8\n",
    "\n"
   ]
  },
  {
   "cell_type": "code",
   "execution_count": 2,
   "id": "f2fe210f-9b7a-4b30-b72e-c1e8d5ee890a",
   "metadata": {},
   "outputs": [
    {
     "name": "stdout",
     "output_type": "stream",
     "text": [
      "1 <class 'int'>\n",
      "2.5 <class 'float'>\n",
      "(3+5j) <class 'complex'>\n",
      "True <class 'bool'>\n",
      "Datascience <class 'str'>\n",
      "Python <class 'str'>\n",
      "5 <class 'int'>\n",
      "7.5 <class 'float'>\n",
      "343 <class 'int'>\n"
     ]
    }
   ],
   "source": [
    "#Q4. Create a list of length 10 of your choice containing multiple types of data. Using for loop print the\n",
    "#element and its data type.'''\n",
    "\n",
    "# Answer\n",
    "List_2 = [1,2.5,3+5j,True,'Datascience','Python',5,7.5,343]\n",
    "for i in List_2:\n",
    "    print(i,type(i))\n",
    "\n"
   ]
  },
  {
   "cell_type": "code",
   "execution_count": 1,
   "id": "c0982f1e-4128-4819-a91f-68519cedcbb0",
   "metadata": {},
   "outputs": [
    {
     "name": "stdin",
     "output_type": "stream",
     "text": [
      "Enter the number A:  50\n"
     ]
    },
    {
     "name": "stdout",
     "output_type": "stream",
     "text": [
      "The number of times A is purely divisible by B is 5\n"
     ]
    }
   ],
   "source": [
    "# Q5. Using a while loop, verify if the number A is purely divisible by number B and if so then how many\n",
    "#times it can be divisible.\n",
    "\n",
    "# Answer\n",
    "\n",
    "A = int(input('Enter the number A: '))\n",
    "B = 1\n",
    "count = 0\n",
    "while A > B:\n",
    "    if A%B == 0:\n",
    "        count += 1\n",
    "    B += 1\n",
    "print('The number of times A is purely divisible by B is',count)\n",
    "\n"
   ]
  },
  {
   "cell_type": "code",
   "execution_count": 3,
   "id": "0651849e-ef0b-4f7b-9977-c53ab78a2d8d",
   "metadata": {},
   "outputs": [
    {
     "name": "stdout",
     "output_type": "stream",
     "text": [
      "1 is not divisible by 3\n",
      "2 is not divisible by 3\n",
      "3 is divisible by 3\n",
      "4 is not divisible by 3\n",
      "5 is not divisible by 3\n",
      "6 is divisible by 3\n",
      "7 is not divisible by 3\n",
      "8 is not divisible by 3\n",
      "9 is divisible by 3\n",
      "10 is not divisible by 3\n",
      "11 is not divisible by 3\n",
      "12 is divisible by 3\n",
      "13 is not divisible by 3\n",
      "14 is not divisible by 3\n",
      "15 is divisible by 3\n",
      "16 is not divisible by 3\n",
      "17 is not divisible by 3\n",
      "18 is divisible by 3\n",
      "19 is not divisible by 3\n",
      "20 is not divisible by 3\n",
      "21 is divisible by 3\n",
      "22 is not divisible by 3\n",
      "23 is not divisible by 3\n",
      "24 is divisible by 3\n",
      "25 is not divisible by 3\n"
     ]
    }
   ],
   "source": [
    "# Q6. Create a list containing 25 int type data. Using for loop and if-else condition print if the element is\n",
    "# divisible by 3 or not.\n",
    "\n",
    "List_3 = list(range(1,26))\n",
    "for i in List_3:\n",
    "    if i%3 == 0:\n",
    "        print(i,'is divisible by 3')\n",
    "    else:\n",
    "        print(i, 'is not divisible by 3' )\n",
    "\n"
   ]
  },
  {
   "cell_type": "code",
   "execution_count": 6,
   "id": "a1003f0d-600b-4ba9-8ff0-50fa2a3f2b2c",
   "metadata": {},
   "outputs": [
    {
     "name": "stdout",
     "output_type": "stream",
     "text": [
      "[1, 2, 400, 4, 5, 6, 7]\n"
     ]
    },
    {
     "ename": "TypeError",
     "evalue": "'str' object does not support item assignment",
     "output_type": "error",
     "traceback": [
      "\u001b[0;31m---------------------------------------------------------------------------\u001b[0m",
      "\u001b[0;31mTypeError\u001b[0m                                 Traceback (most recent call last)",
      "Cell \u001b[0;32mIn[6], line 17\u001b[0m\n\u001b[1;32m     11\u001b[0m \u001b[38;5;66;03m# Here the element of the list has changed to 400 at the index value of 2 showing the mutable property.\u001b[39;00m\n\u001b[1;32m     12\u001b[0m \n\u001b[1;32m     13\u001b[0m \u001b[38;5;66;03m# Immutable datatype - Immutable datatypes are the datatypes in which the elements of the data of a particular datatype \u001b[39;00m\n\u001b[1;32m     14\u001b[0m \u001b[38;5;66;03m#                    cannot be modified or changed. For example: strings\u001b[39;00m\n\u001b[1;32m     16\u001b[0m Str_3 \u001b[38;5;241m=\u001b[39m \u001b[38;5;124m'\u001b[39m\u001b[38;5;124mDatascience\u001b[39m\u001b[38;5;124m'\u001b[39m\n\u001b[0;32m---> 17\u001b[0m \u001b[43mStr_3\u001b[49m\u001b[43m[\u001b[49m\u001b[38;5;241;43m3\u001b[39;49m\u001b[43m]\u001b[49m \u001b[38;5;241m=\u001b[39m \u001b[38;5;124m'\u001b[39m\u001b[38;5;124mp\u001b[39m\u001b[38;5;124m'\u001b[39m\n",
      "\u001b[0;31mTypeError\u001b[0m: 'str' object does not support item assignment"
     ]
    }
   ],
   "source": [
    "# Q7. What do you understand about mutable and immutable data types? Give examples for both showing\n",
    "# this property.\n",
    "\n",
    "# Answer\n",
    "\n",
    "# Mutable datatype - Mutable datatypes are the datatypes in which the elements of the data of a particular datatype \n",
    "#                    can be modified or changed.  For example: list\n",
    "List_6 = [1,2,3,4,5,6,7]\n",
    "List_6[2] = 400\n",
    "print(List_6)\n",
    "# Here the element of the list has changed to 400 at the index value of 2 showing the mutable property.\n",
    "\n",
    "# Immutable datatype - Immutable datatypes are the datatypes in which the elements of the data of a particular datatype \n",
    "#                    cannot be modified or changed. For example: strings\n",
    "\n",
    "Str_3 = 'Datascience'\n",
    "Str_3[3] = 'p'\n",
    "# The above statement will give an error stating ''str' object does not support item assignment' which is \n",
    "# the property of immutability.\n"
   ]
  },
  {
   "cell_type": "code",
   "execution_count": null,
   "id": "714fca05-49c9-4df7-a168-6fd6a0b6fa65",
   "metadata": {},
   "outputs": [],
   "source": []
  }
 ],
 "metadata": {
  "kernelspec": {
   "display_name": "Python 3 (ipykernel)",
   "language": "python",
   "name": "python3"
  },
  "language_info": {
   "codemirror_mode": {
    "name": "ipython",
    "version": 3
   },
   "file_extension": ".py",
   "mimetype": "text/x-python",
   "name": "python",
   "nbconvert_exporter": "python",
   "pygments_lexer": "ipython3",
   "version": "3.10.8"
  }
 },
 "nbformat": 4,
 "nbformat_minor": 5
}
