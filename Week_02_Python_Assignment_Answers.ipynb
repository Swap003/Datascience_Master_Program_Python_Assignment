{
 "cells": [
  {
   "cell_type": "code",
   "execution_count": null,
   "id": "426b5621-43e0-40ab-964f-782de51e73b4",
   "metadata": {},
   "outputs": [],
   "source": [
    "'''\n",
    "\n",
    "Q1. How do you comment code in Python? What are the different types of comments?\n",
    "\n",
    "Ans - In python, we use # sign to comment a single line. For multiline comment, we use triple quotes (\"\"\"multiline \n",
    "comments\"\"\").\n",
    "            There are two types of comments in Python:\n",
    "            1) Single line comment using # sign\n",
    "            2) Multiline comments using triple quotes (\"\"\"\"\"\")\n",
    "            \n",
    "'''\n"
   ]
  },
  {
   "cell_type": "code",
   "execution_count": null,
   "id": "b510dfad-ca9c-4ba7-b85c-3b136c1afda2",
   "metadata": {},
   "outputs": [],
   "source": [
    "'''\n",
    "\n",
    "Q2. What are variables in Python? How do you declare and assign values to variables?\n",
    "\n",
    "Ans - variables in python are the container which is used to hold the data and value of the variable can \n",
    "      change during the program execution.\n",
    "    \n",
    "      Variable in python is declared and assigned as below:\n",
    "        var_1 = 2\n",
    "        var_2 = 5.2\n",
    "        var_3 = 'Datascience'\n",
    "        var_4 = 3+4j\n",
    "        var_5 = True\n",
    "        l = [1,3.4,5,'pwskills',True,4+6j]\n",
    "        \n",
    "'''\n"
   ]
  },
  {
   "cell_type": "code",
   "execution_count": null,
   "id": "6de118ec-6f80-4711-8f3b-c731f1a17cfa",
   "metadata": {},
   "outputs": [],
   "source": [
    "'''\n",
    "\n",
    "Q3. How do you convert one data type to another in Python?\n",
    "\n",
    "Ans - In Python, One datatype is converted to another using typecasting. For example, if we need to convert integer\n",
    "      to string, we can use str() function as below:\n",
    "        \n",
    "        var_1 = 5\n",
    "        var_2 = str(var_1)\n",
    "        print(var_2)\n",
    "        \n",
    "        Another example:\n",
    "        \n",
    "        var_4 = 3.4\n",
    "        var_5 = int(var_4)\n",
    "        print(type(var_5))\n",
    "\n",
    "'''\n",
    "        "
   ]
  },
  {
   "cell_type": "code",
   "execution_count": null,
   "id": "828118fc-fded-4e02-af67-9e4aa8f80a10",
   "metadata": {},
   "outputs": [],
   "source": [
    "'''\n",
    "\n",
    "Q4. How do you write and execute a Python script from the command line?\n",
    "\n",
    "Ans - The most basic and easy way to run a Python script is by using the python command. \n",
    "      We need to open a command line and type the word python followed by the path to your script file like this: \n",
    "      python script_file.py\n",
    "\n",
    "'''"
   ]
  },
  {
   "cell_type": "code",
   "execution_count": null,
   "id": "c06710c2-a27d-49e8-b914-1d41224045c1",
   "metadata": {},
   "outputs": [],
   "source": [
    "'''\n",
    "\n",
    "Q5. Given a list my_list = [1, 2, 3, 4, 5], write the code to slice the list and obtain the sub-list [2, 3].\n",
    "\n",
    "Ans - my_list = [1, 2, 3, 4, 5]\n",
    "      my_list[1:3]\n",
    "      \n",
    "'''"
   ]
  },
  {
   "cell_type": "code",
   "execution_count": null,
   "id": "ef4cb6fa-ef55-430e-9f33-af94ccb5555b",
   "metadata": {},
   "outputs": [],
   "source": [
    "'''\n",
    "\n",
    "Q6. What is a complex number in mathematics, and how is it represented in Python?\n",
    "\n",
    "Ans - The complex number is mathematics consists of a real and an imaginary part. In python, it is represented \n",
    "      as below:\n",
    "      var = 3+4j\n",
    "\n",
    "'''"
   ]
  },
  {
   "cell_type": "code",
   "execution_count": null,
   "id": "841270aa-0ce3-496b-94bd-83e29262bca9",
   "metadata": {},
   "outputs": [],
   "source": [
    "'''\n",
    "\n",
    "Q7. What is the correct way to declare a variable named age and assign the value 25 to it?\n",
    "\n",
    "Ans - It can ve done as below:\n",
    "      age = 25\n",
    "\n",
    "'''"
   ]
  },
  {
   "cell_type": "code",
   "execution_count": null,
   "id": "693d36fa-051f-4a85-9122-1258f8527d0b",
   "metadata": {},
   "outputs": [],
   "source": [
    "'''\n",
    "\n",
    "Q8. Declare a variable named price and assign the value 9.99 to it. What data type does this variable\n",
    "belong to?\n",
    "\n",
    "Ans - price = 9.99\n",
    "      The datatype of this variable will be float and it can be displayed using :\n",
    "      print(type(price))\n",
    "\n",
    "'''"
   ]
  },
  {
   "cell_type": "code",
   "execution_count": null,
   "id": "0e7a2735-fdc5-41cf-8969-55b96d2ff3c7",
   "metadata": {},
   "outputs": [],
   "source": [
    "'''\n",
    "\n",
    "Q9. Create a variable named name and assign your full name to it as a string. How would you print the\n",
    "value of this variable?\n",
    "\n",
    "Ans - name = 'Swapnil Anand'\n",
    "      print(name)\n",
    "\n",
    "'''"
   ]
  },
  {
   "cell_type": "code",
   "execution_count": null,
   "id": "21637748-82cb-4d6b-a5ef-4b3e4efa3013",
   "metadata": {},
   "outputs": [],
   "source": [
    "'''\n",
    "\n",
    "Q10. Given the string \"Hello, World!\", extract the substring \"World\".\n",
    "\n",
    "Ans - str_1 = \"Hello, World!\"\n",
    "      print(str_1[7:12])\n",
    "\n",
    "'''"
   ]
  },
  {
   "cell_type": "code",
   "execution_count": null,
   "id": "d2a657f0-9b16-4f8d-8a07-8dc8468e961d",
   "metadata": {},
   "outputs": [],
   "source": [
    "'''\n",
    "\n",
    "Q11. Create a variable named \"is_student\" and assign it a boolean value indicating whether you are\n",
    "currently a student or not.\n",
    "\n",
    "Ans - \n",
    "\n",
    "is_student = True  #  I am currently a student\n",
    "\n",
    "is_student = False  # I am not currently a student\n",
    "\n",
    "'''"
   ]
  }
 ],
 "metadata": {
  "kernelspec": {
   "display_name": "Python 3 (ipykernel)",
   "language": "python",
   "name": "python3"
  },
  "language_info": {
   "codemirror_mode": {
    "name": "ipython",
    "version": 3
   },
   "file_extension": ".py",
   "mimetype": "text/x-python",
   "name": "python",
   "nbconvert_exporter": "python",
   "pygments_lexer": "ipython3",
   "version": "3.10.8"
  }
 },
 "nbformat": 4,
 "nbformat_minor": 5
}
